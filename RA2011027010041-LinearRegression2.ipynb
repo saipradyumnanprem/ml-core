{
  "nbformat": 4,
  "nbformat_minor": 0,
  "metadata": {
    "colab": {
      "provenance": []
    },
    "kernelspec": {
      "name": "python3",
      "display_name": "Python 3"
    },
    "language_info": {
      "name": "python"
    }
  },
  "cells": [
    {
      "cell_type": "markdown",
      "source": [
        "The training dataset is a CSV file with 700 data pairs (x,y). The x-values are numbers between 0 and 100. The corresponding y-values have been generated using the Excel function NORMINV(RAND(), x, 3). Consequently, the best estimate for y should be x.\n",
        "The test dataset is a CSV file with 300 data pairs.\n",
        "\n",
        "Dataset link:https://www.kaggle.com/datasets/andonians/random-linear-regression"
      ],
      "metadata": {
        "id": "XScBrV4STb1I"
      }
    },
    {
      "cell_type": "code",
      "execution_count": 1,
      "metadata": {
        "id": "xIw__hhbS3bK"
      },
      "outputs": [],
      "source": [
        "import pandas as pd\n",
        "import numpy as np\n",
        "import matplotlib.pyplot as plt"
      ]
    },
    {
      "cell_type": "code",
      "source": [
        "train_data=pd.read_csv(\"/content/train.csv\")\n",
        "test_data=pd.read_csv(\"/content/test.csv\")"
      ],
      "metadata": {
        "id": "uySxfsqpTow0"
      },
      "execution_count": 2,
      "outputs": []
    },
    {
      "cell_type": "code",
      "source": [
        "train_data.info()"
      ],
      "metadata": {
        "colab": {
          "base_uri": "https://localhost:8080/"
        },
        "id": "VhhxcvbKT446",
        "outputId": "303e9a80-ce1c-46b3-aec5-661843c83361"
      },
      "execution_count": 3,
      "outputs": [
        {
          "output_type": "stream",
          "name": "stdout",
          "text": [
            "<class 'pandas.core.frame.DataFrame'>\n",
            "RangeIndex: 700 entries, 0 to 699\n",
            "Data columns (total 2 columns):\n",
            " #   Column  Non-Null Count  Dtype  \n",
            "---  ------  --------------  -----  \n",
            " 0   x       700 non-null    float64\n",
            " 1   y       699 non-null    float64\n",
            "dtypes: float64(2)\n",
            "memory usage: 11.1 KB\n"
          ]
        }
      ]
    },
    {
      "cell_type": "code",
      "source": [
        "train_data=train_data.dropna()"
      ],
      "metadata": {
        "id": "g44nVJhtVrzf"
      },
      "execution_count": 14,
      "outputs": []
    },
    {
      "cell_type": "code",
      "source": [
        "train_data.info()"
      ],
      "metadata": {
        "colab": {
          "base_uri": "https://localhost:8080/"
        },
        "id": "D-YUZO-BWHtv",
        "outputId": "3f8bb4e1-cddb-45b4-89c4-fda98e4c3359"
      },
      "execution_count": 16,
      "outputs": [
        {
          "output_type": "stream",
          "name": "stdout",
          "text": [
            "<class 'pandas.core.frame.DataFrame'>\n",
            "Int64Index: 699 entries, 0 to 699\n",
            "Data columns (total 2 columns):\n",
            " #   Column  Non-Null Count  Dtype  \n",
            "---  ------  --------------  -----  \n",
            " 0   x       699 non-null    float64\n",
            " 1   y       699 non-null    float64\n",
            "dtypes: float64(2)\n",
            "memory usage: 16.4 KB\n"
          ]
        }
      ]
    },
    {
      "cell_type": "code",
      "source": [
        "test_data.info()"
      ],
      "metadata": {
        "colab": {
          "base_uri": "https://localhost:8080/"
        },
        "id": "WyljiA7EWONP",
        "outputId": "b5e515ca-3676-4a58-8961-76e0158d5af8"
      },
      "execution_count": 17,
      "outputs": [
        {
          "output_type": "stream",
          "name": "stdout",
          "text": [
            "<class 'pandas.core.frame.DataFrame'>\n",
            "RangeIndex: 300 entries, 0 to 299\n",
            "Data columns (total 2 columns):\n",
            " #   Column  Non-Null Count  Dtype  \n",
            "---  ------  --------------  -----  \n",
            " 0   x       300 non-null    int64  \n",
            " 1   y       300 non-null    float64\n",
            "dtypes: float64(1), int64(1)\n",
            "memory usage: 4.8 KB\n"
          ]
        }
      ]
    },
    {
      "cell_type": "code",
      "source": [
        "from sklearn.linear_model import LinearRegression"
      ],
      "metadata": {
        "id": "lFsIYyBkT9-O"
      },
      "execution_count": 4,
      "outputs": []
    },
    {
      "cell_type": "code",
      "source": [
        "Reg=LinearRegression()"
      ],
      "metadata": {
        "id": "K1I3ZJLgUOmY"
      },
      "execution_count": 7,
      "outputs": []
    },
    {
      "cell_type": "code",
      "source": [
        "Reg.fit(train_data[['x']],train_data['y'])"
      ],
      "metadata": {
        "colab": {
          "base_uri": "https://localhost:8080/"
        },
        "id": "cKDsTaWQUTBk",
        "outputId": "6f87ba53-e102-4e37-ab23-e27e56fb0c93"
      },
      "execution_count": 18,
      "outputs": [
        {
          "output_type": "execute_result",
          "data": {
            "text/plain": [
              "LinearRegression()"
            ]
          },
          "metadata": {},
          "execution_count": 18
        }
      ]
    },
    {
      "cell_type": "code",
      "source": [
        "y_pred=Reg.predict(test_data[['x']])"
      ],
      "metadata": {
        "id": "yZedU4-VWTRD"
      },
      "execution_count": 19,
      "outputs": []
    },
    {
      "cell_type": "code",
      "source": [
        "y_pred"
      ],
      "metadata": {
        "colab": {
          "base_uri": "https://localhost:8080/"
        },
        "id": "ImodsgZiWdq0",
        "outputId": "04df399c-f899-4fca-f512-5a112951ebb4"
      },
      "execution_count": 20,
      "outputs": [
        {
          "output_type": "execute_result",
          "data": {
            "text/plain": [
              "array([76.94327594, 20.90651855, 21.90717494, 19.90586217, 35.91636428,\n",
              "       14.90258026, 61.93343021, 94.95509081, 19.90586217,  4.89601644,\n",
              "        3.89536006, 18.90520579, 95.95574719, 61.93343021, 35.91636428,\n",
              "       14.90258026, 64.93539936, 13.90192388, 86.94983976, 68.93802488,\n",
              "       88.95115252, 50.92621001, 88.95115252, 26.91045685, 96.95640358,\n",
              "       57.93080468, 78.9445887 , 20.90651855, 92.95377805, 26.91045685,\n",
              "       98.95771634, 30.91308237, 32.91439514, 79.94524508, 27.91111323,\n",
              "       46.92358448, 52.92752277, 68.93802488, 27.91111323, 32.91439514,\n",
              "       90.95246528, 70.93933765, 49.92555363, 75.94261956,  3.89536006,\n",
              "       36.91702066, 69.93868127, 67.9373685 , 39.91898981, 34.9157079 ,\n",
              "       93.95443443, 87.95049614, 51.92686639, 30.91308237, 58.93146107,\n",
              "       -0.10726546, 38.91833343, 63.93474297, 68.93802488, 56.9301483 ,\n",
              "       12.9012675 , 71.93999403, 75.94261956, 60.93277383, 81.94655785,\n",
              "       17.90454941, 40.91964619, 49.92555363, 54.92883554, 12.9012675 ,\n",
              "       45.9229281 , 12.9012675 , 78.9445887 , 52.92752277, 14.90258026,\n",
              "       27.91111323, 80.94590147, 68.93802488, 51.92686639, 83.94787061,\n",
              "       67.9373685 , 26.91045685, 55.92949192, 47.92424086, 39.91898981,\n",
              "       38.91833343, 81.94655785, 99.95837272, 58.93146107, 42.92095896,\n",
              "       66.93671212, 37.91767705, 62.93408659, 90.95246528, 59.93211745,\n",
              "       13.90192388, 20.90651855, 86.94983976, 72.94065041, 31.91373876,\n",
              "        1.8940473 , 81.94655785, 18.90520579, 73.94130679, 41.92030257,\n",
              "       11.90061112,  0.89339092, 89.9518089 , 88.95115252, -0.10726546,\n",
              "       40.91964619, 15.90323665, 93.95443443, 96.95640358, 65.93605574,\n",
              "       23.9084877 , 16.90389303, 89.9518089 , 12.9012675 , -0.10726546,\n",
              "       63.93474297, 95.95574719, 97.95705996, 11.90061112, 40.91964619,\n",
              "       46.92358448, 77.94393232, 19.90586217, 88.95115252, 28.91176961,\n",
              "       63.93474297, 74.94196317, 11.90061112, 24.90914408, 27.91111323,\n",
              "       29.91242599, 64.93539936, 58.93146107, 63.93474297, 52.92752277,\n",
              "       70.93933765, 96.95640358, 72.94065041,  8.89864197, 11.90061112,\n",
              "       62.93408659, 98.95771634, 59.93211745, 34.9157079 ,  1.8940473 ,\n",
              "       59.93211745, 31.91373876, 93.95443443, 83.94787061, 62.93408659,\n",
              "       21.90717494, 80.94590147, 92.95377805, 32.91439514,  6.89732921,\n",
              "       41.92030257, 45.9229281 , 53.92817916, 15.90323665, 48.92489725,\n",
              "       42.92095896, 94.95509081, 65.93605574, 20.90651855, 34.9157079 ,\n",
              "       79.94524508, 36.91702066, 53.92817916, 55.92949192,  0.89339092,\n",
              "       31.91373876, 57.93080468, 31.91373876, 45.9229281 , 71.93999403,\n",
              "       16.90389303, 96.95640358, 92.95377805, 90.95246528, 36.91702066,\n",
              "        3.89536006, 53.92817916, 50.92621001, 26.91045685, 45.9229281 ,\n",
              "       91.95312167, 72.94065041, 76.94327594, 90.95246528, 60.93277383,\n",
              "       98.95771634,  3.89536006, 71.93999403, 18.90520579, 56.9301483 ,\n",
              "       77.94393232, 25.90980046, 73.94130679, 89.9518089 , 65.93605574,\n",
              "       12.9012675 , 39.91898981, 76.94327594, 66.93671212, 74.94196317,\n",
              "       22.90783132, 44.92227172, 58.93146107, 43.92161534, 22.90783132,\n",
              "       54.92883554, 54.92883554, 94.95509081, 11.90061112,  3.89536006,\n",
              "        6.89732921, 99.95837272, 47.92424086, 41.92030257, 95.95574719,\n",
              "       38.91833343, 99.95837272, 86.94983976, 13.90192388, 13.90192388,\n",
              "       36.91702066,  4.89601644, 87.95049614, 90.95246528, 64.93539936,\n",
              "       73.94130679, 55.92949192, 15.90323665,  4.89601644, 27.91111323,\n",
              "       91.95312167, 45.9229281 , 53.92817916, 38.91833343, 43.92161534,\n",
              "       30.91308237, 67.9373685 , 85.94918338, 89.9518089 , 37.91767705,\n",
              "       20.90651855, 94.95509081, 55.92949192, 59.93211745, 64.93539936,\n",
              "       77.94393232, 88.95115252,  5.89667283, 66.93671212, 35.91636428,\n",
              "       15.90323665, 99.95837272, 44.92227172, 72.94065041, 56.9301483 ,\n",
              "       19.90586217, 75.94261956, 33.91505152, 54.92883554, 71.93999403,\n",
              "       54.92883554,  7.89798559, 55.92949192, 71.93999403, 57.93080468,\n",
              "        5.89667283, 95.95574719, 22.90783132, 57.93080468, 22.90783132,\n",
              "       18.90520579, 24.90914408, 63.93474297, 20.90651855, 58.93146107,\n",
              "       18.90520579, 15.90323665, 41.92030257, 42.92095896, 60.93277383,\n",
              "       91.95312167, 10.89995474, 40.91964619,  0.89339092,  7.89798559,\n",
              "       70.93933765, 45.9229281 , 54.92883554, 61.93343021, 46.92358448])"
            ]
          },
          "metadata": {},
          "execution_count": 20
        }
      ]
    },
    {
      "cell_type": "code",
      "source": [
        "plt.scatter(train_data[['x']],train_data['y'])"
      ],
      "metadata": {
        "colab": {
          "base_uri": "https://localhost:8080/",
          "height": 282
        },
        "id": "JXnVLmTSWhwj",
        "outputId": "9f6d926d-556d-45ce-9ddc-4c4f72e3745e"
      },
      "execution_count": 22,
      "outputs": [
        {
          "output_type": "execute_result",
          "data": {
            "text/plain": [
              "<matplotlib.collections.PathCollection at 0x7f73fab967c0>"
            ]
          },
          "metadata": {},
          "execution_count": 22
        },
        {
          "output_type": "display_data",
          "data": {
            "text/plain": [
              "<Figure size 432x288 with 1 Axes>"
            ],
            "image/png": "[encoded data removed]"
          },
          "metadata": {
            "needs_background": "light"
          }
        }
      ]
    },
    {
      "cell_type": "code",
      "source": [
        "from sklearn import metrics"
      ],
      "metadata": {
        "id": "BGb4vx84Wx-t"
      },
      "execution_count": 23,
      "outputs": []
    },
    {
      "cell_type": "code",
      "source": [
        "print('MAE:', metrics.mean_absolute_error(test_data['y'], y_pred))\n",
        "print('MSE:', metrics.mean_squared_error(test_data['y'], y_pred))\n",
        "print('RMSE:', np.sqrt(metrics.mean_squared_error(test_data['y'], y_pred)))\n"
      ],
      "metadata": {
        "colab": {
          "base_uri": "https://localhost:8080/"
        },
        "id": "IYMnXoUuWzLe",
        "outputId": "9b591c39-12a0-485c-9405-e9bdf3f18f4f"
      },
      "execution_count": 24,
      "outputs": [
        {
          "output_type": "stream",
          "name": "stdout",
          "text": [
            "MAE: 2.415771850041258\n",
            "MSE: 9.432922192039305\n",
            "RMSE: 3.071306268029827\n"
          ]
        }
      ]
    }
  ]
}